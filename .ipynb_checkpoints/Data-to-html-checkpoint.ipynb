{
 "cells": [
  {
   "cell_type": "code",
   "execution_count": null,
   "metadata": {},
   "outputs": [],
   "source": [
    "\n",
    "# --- dependencies and setup ---\n",
    "import pandas as pd\n",
    "import datetime as dt"
   ]
  },
  {
   "cell_type": "code",
   "execution_count": null,
   "metadata": {},
   "outputs": [],
   "source": [
    "# --- read in CSV file to dataframe ---\n",
    "file = \"resources/cities.csv\"\n",
    "cities_df = pd.read_csv(file)\n",
    "\n",
    "cities_df"
   ]
  },
  {
   "cell_type": "code",
   "execution_count": null,
   "metadata": {},
   "outputs": [],
   "source": [
    "# --- clean up date column by removing the time ---\n",
    "\n",
    "# --- new column with just the date ---\n",
    "cities_df['Date'] = pd.to_datetime(cities_df['Datetime']).dt.date\n",
    "\n",
    "# --- drop old datetime column ---\n",
    "cities_df.drop(['Datetime'], axis=1, inplace=True)\n",
    "\n",
    "# --- reorder columns ---\n",
    "column_names = ['City ID', 'City', 'Country', 'Lat', 'Lng', 'Date', 'Max Temp (F)', 'Humidity (%)',\n",
    "               'Cloudiness (%)', 'Wind Speed (mph)']\n",
    "\n",
    "cities_df = cities_df.reindex(columns=column_names)\n",
    "cities_df"
   ]
  },
  {
   "cell_type": "code",
   "execution_count": null,
   "metadata": {},
   "outputs": [],
   "source": [
    "\n",
    "# --- convert data table to HTML file ---\n",
    "cities_df.to_html('resources/html_data.html', index=False)"
   ]
  },
  {
   "cell_type": "code",
   "execution_count": null,
   "metadata": {},
   "outputs": [],
   "source": []
  }
 ],
 "metadata": {
  "kernelspec": {
   "display_name": "Python 3",
   "language": "python",
   "name": "python3"
  },
  "language_info": {
   "codemirror_mode": {
    "name": "ipython",
    "version": 3
   },
   "file_extension": ".py",
   "mimetype": "text/x-python",
   "name": "python",
   "nbconvert_exporter": "python",
   "pygments_lexer": "ipython3",
   "version": "3.8.5"
  }
 },
 "nbformat": 4,
 "nbformat_minor": 4
}
